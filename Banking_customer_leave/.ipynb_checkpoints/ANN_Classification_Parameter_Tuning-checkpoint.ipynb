{
 "cells": [
  {
   "cell_type": "markdown",
   "metadata": {},
   "source": [
    "### 1. Import libraries"
   ]
  },
  {
   "cell_type": "code",
   "execution_count": 1,
   "metadata": {},
   "outputs": [],
   "source": [
    "import numpy as np\n",
    "import matplotlib.pyplot as plt\n",
    "import pandas as pd"
   ]
  },
  {
   "cell_type": "code",
   "execution_count": 2,
   "metadata": {},
   "outputs": [],
   "source": [
    "from sklearn.preprocessing import LabelEncoder\n",
    "from sklearn.preprocessing import OneHotEncoder\n",
    "from sklearn.preprocessing import StandardScaler\n",
    "from sklearn.model_selection import train_test_split"
   ]
  },
  {
   "cell_type": "code",
   "execution_count": 3,
   "metadata": {},
   "outputs": [
    {
     "name": "stderr",
     "output_type": "stream",
     "text": [
      "Using TensorFlow backend.\n"
     ]
    }
   ],
   "source": [
    "from keras.wrappers.scikit_learn import KerasClassifier\n",
    "from sklearn.model_selection import cross_val_score\n",
    "from keras.models import Sequential\n",
    "from keras.layers import Dense"
   ]
  },
  {
   "cell_type": "code",
   "execution_count": 4,
   "metadata": {},
   "outputs": [],
   "source": [
    "from keras.wrappers.scikit_learn import KerasClassifier\n",
    "from sklearn.model_selection import GridSearchCV\n",
    "from keras.models import Sequential\n",
    "from keras.layers import Dense"
   ]
  },
  {
   "cell_type": "markdown",
   "metadata": {},
   "source": [
    "### 2.  Data processing"
   ]
  },
  {
   "cell_type": "markdown",
   "metadata": {},
   "source": [
    "### 2.1 read in data"
   ]
  },
  {
   "cell_type": "code",
   "execution_count": 5,
   "metadata": {},
   "outputs": [],
   "source": [
    "dataset = pd.read_csv('Churn_Modelling.csv')"
   ]
  },
  {
   "cell_type": "code",
   "execution_count": 6,
   "metadata": {
    "scrolled": true
   },
   "outputs": [
    {
     "data": {
      "text/html": [
       "<div>\n",
       "<style scoped>\n",
       "    .dataframe tbody tr th:only-of-type {\n",
       "        vertical-align: middle;\n",
       "    }\n",
       "\n",
       "    .dataframe tbody tr th {\n",
       "        vertical-align: top;\n",
       "    }\n",
       "\n",
       "    .dataframe thead th {\n",
       "        text-align: right;\n",
       "    }\n",
       "</style>\n",
       "<table border=\"1\" class=\"dataframe\">\n",
       "  <thead>\n",
       "    <tr style=\"text-align: right;\">\n",
       "      <th></th>\n",
       "      <th>RowNumber</th>\n",
       "      <th>CustomerId</th>\n",
       "      <th>Surname</th>\n",
       "      <th>CreditScore</th>\n",
       "      <th>Geography</th>\n",
       "      <th>Gender</th>\n",
       "      <th>Age</th>\n",
       "      <th>Tenure</th>\n",
       "      <th>Balance</th>\n",
       "      <th>NumOfProducts</th>\n",
       "      <th>HasCrCard</th>\n",
       "      <th>IsActiveMember</th>\n",
       "      <th>EstimatedSalary</th>\n",
       "      <th>Exited</th>\n",
       "    </tr>\n",
       "  </thead>\n",
       "  <tbody>\n",
       "    <tr>\n",
       "      <th>0</th>\n",
       "      <td>1</td>\n",
       "      <td>15634602</td>\n",
       "      <td>Hargrave</td>\n",
       "      <td>619</td>\n",
       "      <td>France</td>\n",
       "      <td>Female</td>\n",
       "      <td>42</td>\n",
       "      <td>2</td>\n",
       "      <td>0.00</td>\n",
       "      <td>1</td>\n",
       "      <td>1</td>\n",
       "      <td>1</td>\n",
       "      <td>101348.88</td>\n",
       "      <td>1</td>\n",
       "    </tr>\n",
       "    <tr>\n",
       "      <th>1</th>\n",
       "      <td>2</td>\n",
       "      <td>15647311</td>\n",
       "      <td>Hill</td>\n",
       "      <td>608</td>\n",
       "      <td>Spain</td>\n",
       "      <td>Female</td>\n",
       "      <td>41</td>\n",
       "      <td>1</td>\n",
       "      <td>83807.86</td>\n",
       "      <td>1</td>\n",
       "      <td>0</td>\n",
       "      <td>1</td>\n",
       "      <td>112542.58</td>\n",
       "      <td>0</td>\n",
       "    </tr>\n",
       "    <tr>\n",
       "      <th>2</th>\n",
       "      <td>3</td>\n",
       "      <td>15619304</td>\n",
       "      <td>Onio</td>\n",
       "      <td>502</td>\n",
       "      <td>France</td>\n",
       "      <td>Female</td>\n",
       "      <td>42</td>\n",
       "      <td>8</td>\n",
       "      <td>159660.80</td>\n",
       "      <td>3</td>\n",
       "      <td>1</td>\n",
       "      <td>0</td>\n",
       "      <td>113931.57</td>\n",
       "      <td>1</td>\n",
       "    </tr>\n",
       "    <tr>\n",
       "      <th>3</th>\n",
       "      <td>4</td>\n",
       "      <td>15701354</td>\n",
       "      <td>Boni</td>\n",
       "      <td>699</td>\n",
       "      <td>France</td>\n",
       "      <td>Female</td>\n",
       "      <td>39</td>\n",
       "      <td>1</td>\n",
       "      <td>0.00</td>\n",
       "      <td>2</td>\n",
       "      <td>0</td>\n",
       "      <td>0</td>\n",
       "      <td>93826.63</td>\n",
       "      <td>0</td>\n",
       "    </tr>\n",
       "    <tr>\n",
       "      <th>4</th>\n",
       "      <td>5</td>\n",
       "      <td>15737888</td>\n",
       "      <td>Mitchell</td>\n",
       "      <td>850</td>\n",
       "      <td>Spain</td>\n",
       "      <td>Female</td>\n",
       "      <td>43</td>\n",
       "      <td>2</td>\n",
       "      <td>125510.82</td>\n",
       "      <td>1</td>\n",
       "      <td>1</td>\n",
       "      <td>1</td>\n",
       "      <td>79084.10</td>\n",
       "      <td>0</td>\n",
       "    </tr>\n",
       "  </tbody>\n",
       "</table>\n",
       "</div>"
      ],
      "text/plain": [
       "   RowNumber  CustomerId   Surname  CreditScore Geography  Gender  Age  \\\n",
       "0          1    15634602  Hargrave          619    France  Female   42   \n",
       "1          2    15647311      Hill          608     Spain  Female   41   \n",
       "2          3    15619304      Onio          502    France  Female   42   \n",
       "3          4    15701354      Boni          699    France  Female   39   \n",
       "4          5    15737888  Mitchell          850     Spain  Female   43   \n",
       "\n",
       "   Tenure    Balance  NumOfProducts  HasCrCard  IsActiveMember  \\\n",
       "0       2       0.00              1          1               1   \n",
       "1       1   83807.86              1          0               1   \n",
       "2       8  159660.80              3          1               0   \n",
       "3       1       0.00              2          0               0   \n",
       "4       2  125510.82              1          1               1   \n",
       "\n",
       "   EstimatedSalary  Exited  \n",
       "0        101348.88       1  \n",
       "1        112542.58       0  \n",
       "2        113931.57       1  \n",
       "3         93826.63       0  \n",
       "4         79084.10       0  "
      ]
     },
     "execution_count": 6,
     "metadata": {},
     "output_type": "execute_result"
    }
   ],
   "source": [
    "dataset.head()"
   ]
  },
  {
   "cell_type": "code",
   "execution_count": 7,
   "metadata": {},
   "outputs": [
    {
     "data": {
      "text/plain": [
       "Index(['RowNumber', 'CustomerId', 'Surname', 'CreditScore', 'Geography',\n",
       "       'Gender', 'Age', 'Tenure', 'Balance', 'NumOfProducts', 'HasCrCard',\n",
       "       'IsActiveMember', 'EstimatedSalary', 'Exited'],\n",
       "      dtype='object')"
      ]
     },
     "execution_count": 7,
     "metadata": {},
     "output_type": "execute_result"
    }
   ],
   "source": [
    "dataset.columns"
   ]
  },
  {
   "cell_type": "markdown",
   "metadata": {},
   "source": [
    "### 2.2 Feature selection: excluding columns of 'RowNumber', 'CustomerId', 'Surname'"
   ]
  },
  {
   "cell_type": "code",
   "execution_count": 8,
   "metadata": {},
   "outputs": [],
   "source": [
    "X = dataset.iloc[:, 3:13].values"
   ]
  },
  {
   "cell_type": "code",
   "execution_count": 9,
   "metadata": {},
   "outputs": [
    {
     "data": {
      "text/plain": [
       "array([[619, 'France', 'Female', ..., 1, 1, 101348.88],\n",
       "       [608, 'Spain', 'Female', ..., 0, 1, 112542.58],\n",
       "       [502, 'France', 'Female', ..., 1, 0, 113931.57],\n",
       "       ...,\n",
       "       [709, 'France', 'Female', ..., 0, 1, 42085.58],\n",
       "       [772, 'Germany', 'Male', ..., 1, 0, 92888.52],\n",
       "       [792, 'France', 'Female', ..., 1, 0, 38190.78]], dtype=object)"
      ]
     },
     "execution_count": 9,
     "metadata": {},
     "output_type": "execute_result"
    }
   ],
   "source": [
    "X"
   ]
  },
  {
   "cell_type": "code",
   "execution_count": 10,
   "metadata": {},
   "outputs": [],
   "source": [
    "y = dataset.iloc[:, 13].values"
   ]
  },
  {
   "cell_type": "code",
   "execution_count": 11,
   "metadata": {},
   "outputs": [
    {
     "data": {
      "text/plain": [
       "array([1, 0, 1, ..., 1, 1, 0], dtype=int64)"
      ]
     },
     "execution_count": 11,
     "metadata": {},
     "output_type": "execute_result"
    }
   ],
   "source": [
    "y"
   ]
  },
  {
   "cell_type": "markdown",
   "metadata": {},
   "source": [
    "### 2.3 Categorical encoding: column Geography and Gender"
   ]
  },
  {
   "cell_type": "code",
   "execution_count": 12,
   "metadata": {},
   "outputs": [],
   "source": [
    "#Label encoder for ''Geography'', 1 is the index of 'country' col\n",
    "labelencoder_X_1 = LabelEncoder()\n",
    "X[:, 1] = labelencoder_X_1.fit_transform(X[:, 1])"
   ]
  },
  {
   "cell_type": "code",
   "execution_count": 13,
   "metadata": {},
   "outputs": [
    {
     "data": {
      "text/plain": [
       "array([[619, 0, 'Female', ..., 1, 1, 101348.88],\n",
       "       [608, 2, 'Female', ..., 0, 1, 112542.58],\n",
       "       [502, 0, 'Female', ..., 1, 0, 113931.57],\n",
       "       ...,\n",
       "       [709, 0, 'Female', ..., 0, 1, 42085.58],\n",
       "       [772, 1, 'Male', ..., 1, 0, 92888.52],\n",
       "       [792, 0, 'Female', ..., 1, 0, 38190.78]], dtype=object)"
      ]
     },
     "execution_count": 13,
     "metadata": {},
     "output_type": "execute_result"
    }
   ],
   "source": [
    "X"
   ]
  },
  {
   "cell_type": "code",
   "execution_count": 14,
   "metadata": {},
   "outputs": [],
   "source": [
    "#Label encoder for 'Gender'\n",
    "labelencoder_X_2 = LabelEncoder()\n",
    "X[:, 2] = labelencoder_X_2.fit_transform(X[:, 2])"
   ]
  },
  {
   "cell_type": "markdown",
   "metadata": {},
   "source": [
    "#### remove genography column"
   ]
  },
  {
   "cell_type": "code",
   "execution_count": 15,
   "metadata": {},
   "outputs": [
    {
     "data": {
      "text/plain": [
       "array([[619, 0, 42, ..., 1, 1, 101348.88],\n",
       "       [608, 0, 41, ..., 0, 1, 112542.58],\n",
       "       [502, 0, 42, ..., 1, 0, 113931.57],\n",
       "       ...,\n",
       "       [709, 0, 36, ..., 0, 1, 42085.58],\n",
       "       [772, 1, 42, ..., 1, 0, 92888.52],\n",
       "       [792, 0, 28, ..., 1, 0, 38190.78]], dtype=object)"
      ]
     },
     "execution_count": 15,
     "metadata": {},
     "output_type": "execute_result"
    }
   ],
   "source": [
    "X_temp = np.delete(X, 1, 1)\n",
    "X_temp"
   ]
  },
  {
   "cell_type": "markdown",
   "metadata": {},
   "source": [
    "### 2.4 One-hot encoding: column Geography "
   ]
  },
  {
   "cell_type": "code",
   "execution_count": 16,
   "metadata": {},
   "outputs": [],
   "source": [
    "#One-hot encoding ''Geography'' col\n",
    "#One-hot encoding 'country' col\n",
    "onehotencoder = OneHotEncoder()\n",
    "geography_array = onehotencoder.fit_transform(X[:, 1:2]).toarray()"
   ]
  },
  {
   "cell_type": "markdown",
   "metadata": {},
   "source": [
    "### 2.5 avoid dummy data trap"
   ]
  },
  {
   "cell_type": "code",
   "execution_count": 17,
   "metadata": {},
   "outputs": [
    {
     "data": {
      "text/plain": [
       "array([[0., 0.],\n",
       "       [0., 1.],\n",
       "       [0., 0.],\n",
       "       ...,\n",
       "       [0., 0.],\n",
       "       [1., 0.],\n",
       "       [0., 0.]])"
      ]
     },
     "execution_count": 17,
     "metadata": {},
     "output_type": "execute_result"
    }
   ],
   "source": [
    "geography_array = geography_array[: , 1:3]\n",
    "geography_array"
   ]
  },
  {
   "cell_type": "code",
   "execution_count": 18,
   "metadata": {},
   "outputs": [
    {
     "data": {
      "text/plain": [
       "array([[0.0, 0.0, 619, ..., 1, 1, 101348.88],\n",
       "       [0.0, 1.0, 608, ..., 0, 1, 112542.58],\n",
       "       [0.0, 0.0, 502, ..., 1, 0, 113931.57],\n",
       "       ...,\n",
       "       [0.0, 0.0, 709, ..., 0, 1, 42085.58],\n",
       "       [1.0, 0.0, 772, ..., 1, 0, 92888.52],\n",
       "       [0.0, 0.0, 792, ..., 1, 0, 38190.78]], dtype=object)"
      ]
     },
     "execution_count": 18,
     "metadata": {},
     "output_type": "execute_result"
    }
   ],
   "source": [
    "X_final = np.concatenate( (geography_array, X_temp),  axis = 1)\n",
    "X_final"
   ]
  },
  {
   "cell_type": "markdown",
   "metadata": {},
   "source": [
    "### 2.6 Data split"
   ]
  },
  {
   "cell_type": "code",
   "execution_count": 19,
   "metadata": {},
   "outputs": [],
   "source": [
    "X_train, X_test, y_train, y_test = train_test_split(X_final, y, test_size = 0.2, random_state = 0)"
   ]
  },
  {
   "cell_type": "markdown",
   "metadata": {},
   "source": [
    "### 2.7 Feature scaling"
   ]
  },
  {
   "cell_type": "code",
   "execution_count": 20,
   "metadata": {},
   "outputs": [],
   "source": [
    "sc = StandardScaler()\n",
    "X_train = sc.fit_transform(X_train)\n",
    "X_test = sc.transform(X_test)"
   ]
  },
  {
   "cell_type": "markdown",
   "metadata": {},
   "source": [
    "### 3. K-fold cross validation"
   ]
  },
  {
   "cell_type": "code",
   "execution_count": 21,
   "metadata": {},
   "outputs": [],
   "source": [
    "##============evalate the model using k-fold cross validatioN\n",
    "def build_classifier():\n",
    "    classifier = Sequential()\n",
    "    classifier.add(Dense(units = 6, kernel_initializer = 'uniform', activation = 'relu', input_dim = 11))\n",
    "    classifier.add(Dense(units = 6, kernel_initializer = 'uniform', activation = 'relu'))\n",
    "    classifier.add(Dense(units = 1, kernel_initializer = 'uniform', activation = 'sigmoid'))\n",
    "    classifier.compile(optimizer = 'adam', loss = 'binary_crossentropy', metrics = ['accuracy'])\n",
    "    return classifier"
   ]
  },
  {
   "cell_type": "code",
   "execution_count": 22,
   "metadata": {},
   "outputs": [],
   "source": [
    "classifier = KerasClassifier(build_fn = build_classifier, batch_size = 10, epochs = 50)"
   ]
  },
  {
   "cell_type": "code",
   "execution_count": null,
   "metadata": {
    "scrolled": true
   },
   "outputs": [
    {
     "name": "stdout",
     "output_type": "stream",
     "text": [
      "WARNING:tensorflow:From C:\\Users\\kx764qe\\AppData\\Local\\Continuum\\anaconda3\\envs\\courses\\lib\\site-packages\\keras\\backend\\tensorflow_backend.py:74: The name tf.get_default_graph is deprecated. Please use tf.compat.v1.get_default_graph instead.\n",
      "\n",
      "WARNING:tensorflow:From C:\\Users\\kx764qe\\AppData\\Local\\Continuum\\anaconda3\\envs\\courses\\lib\\site-packages\\keras\\backend\\tensorflow_backend.py:517: The name tf.placeholder is deprecated. Please use tf.compat.v1.placeholder instead.\n",
      "\n",
      "WARNING:tensorflow:From C:\\Users\\kx764qe\\AppData\\Local\\Continuum\\anaconda3\\envs\\courses\\lib\\site-packages\\keras\\backend\\tensorflow_backend.py:4138: The name tf.random_uniform is deprecated. Please use tf.random.uniform instead.\n",
      "\n",
      "WARNING:tensorflow:From C:\\Users\\kx764qe\\AppData\\Local\\Continuum\\anaconda3\\envs\\courses\\lib\\site-packages\\keras\\optimizers.py:790: The name tf.train.Optimizer is deprecated. Please use tf.compat.v1.train.Optimizer instead.\n",
      "\n",
      "WARNING:tensorflow:From C:\\Users\\kx764qe\\AppData\\Local\\Continuum\\anaconda3\\envs\\courses\\lib\\site-packages\\keras\\backend\\tensorflow_backend.py:3376: The name tf.log is deprecated. Please use tf.math.log instead.\n",
      "\n",
      "WARNING:tensorflow:From C:\\Users\\kx764qe\\AppData\\Local\\Continuum\\anaconda3\\envs\\courses\\lib\\site-packages\\tensorflow\\python\\ops\\nn_impl.py:180: add_dispatch_support.<locals>.wrapper (from tensorflow.python.ops.array_ops) is deprecated and will be removed in a future version.\n",
      "Instructions for updating:\n",
      "Use tf.where in 2.0, which has the same broadcast rule as np.where\n",
      "WARNING:tensorflow:From C:\\Users\\kx764qe\\AppData\\Local\\Continuum\\anaconda3\\envs\\courses\\lib\\site-packages\\keras\\backend\\tensorflow_backend.py:986: The name tf.assign_add is deprecated. Please use tf.compat.v1.assign_add instead.\n",
      "\n",
      "Epoch 1/50\n",
      "7200/7200 [==============================] - 2s 313us/step - loss: 0.4814 - acc: 0.7969\n",
      "Epoch 2/50\n",
      "7200/7200 [==============================] - ETA: 0s - loss: 0.4285 - acc: 0.797 - 2s 258us/step - loss: 0.4292 - acc: 0.7971\n",
      "Epoch 3/50\n",
      "7200/7200 [==============================] - 1s 174us/step - loss: 0.4241 - acc: 0.7971\n",
      "Epoch 4/50\n",
      "7200/7200 [==============================] - 1s 163us/step - loss: 0.4195 - acc: 0.8140\n",
      "Epoch 5/50\n",
      "7200/7200 [==============================] - 1s 159us/step - loss: 0.4171 - acc: 0.8219\n",
      "Epoch 6/50\n",
      "7200/7200 [==============================] - 1s 161us/step - loss: 0.4150 - acc: 0.8289\n",
      "Epoch 7/50\n",
      "7200/7200 [==============================] - 1s 202us/step - loss: 0.4130 - acc: 0.8319\n",
      "Epoch 8/50\n",
      "7200/7200 [==============================] - 1s 189us/step - loss: 0.4121 - acc: 0.8310\n",
      "Epoch 9/50\n",
      "7200/7200 [==============================] - 1s 153us/step - loss: 0.4109 - acc: 0.8332\n",
      "Epoch 10/50\n",
      "7200/7200 [==============================] - 2s 221us/step - loss: 0.4101 - acc: 0.8311\n",
      "Epoch 11/50\n",
      "7200/7200 [==============================] - 1s 188us/step - loss: 0.4090 - acc: 0.8335\n",
      "Epoch 12/50\n",
      "7200/7200 [==============================] - 2s 209us/step - loss: 0.4084 - acc: 0.8357\n",
      "Epoch 13/50\n",
      "7200/7200 [==============================] - 1s 195us/step - loss: 0.4079 - acc: 0.8353\n",
      "Epoch 14/50\n",
      "7200/7200 [==============================] - 1s 189us/step - loss: 0.4071 - acc: 0.8342\n",
      "Epoch 15/50\n",
      "7200/7200 [==============================] - 1s 191us/step - loss: 0.4065 - acc: 0.8340\n",
      "Epoch 16/50\n",
      "7200/7200 [==============================] - 2s 248us/step - loss: 0.4061 - acc: 0.8356\n",
      "Epoch 17/50\n",
      "7200/7200 [==============================] - 1s 194us/step - loss: 0.4056 - acc: 0.8349\n",
      "Epoch 18/50\n",
      "7200/7200 [==============================] - 1s 188us/step - loss: 0.4055 - acc: 0.8333\n",
      "Epoch 19/50\n",
      "7200/7200 [==============================] - 1s 186us/step - loss: 0.4050 - acc: 0.8324\n",
      "Epoch 20/50\n",
      "7200/7200 [==============================] - 1s 202us/step - loss: 0.4046 - acc: 0.8353\n",
      "Epoch 21/50\n",
      "7200/7200 [==============================] - 1s 198us/step - loss: 0.4041 - acc: 0.8350 1s -\n",
      "Epoch 22/50\n",
      "7200/7200 [==============================] - 1s 188us/step - loss: 0.4045 - acc: 0.8353\n",
      "Epoch 23/50\n",
      "7200/7200 [==============================] - 2s 218us/step - loss: 0.4037 - acc: 0.8350\n",
      "Epoch 24/50\n",
      "7200/7200 [==============================] - 1s 200us/step - loss: 0.4034 - acc: 0.8354\n",
      "Epoch 25/50\n",
      "7200/7200 [==============================] - 2s 232us/step - loss: 0.4033 - acc: 0.8351\n",
      "Epoch 26/50\n",
      "7200/7200 [==============================] - 1s 180us/step - loss: 0.4033 - acc: 0.8349\n",
      "Epoch 27/50\n",
      "7200/7200 [==============================] - 1s 153us/step - loss: 0.4028 - acc: 0.8336\n",
      "Epoch 28/50\n",
      "7200/7200 [==============================] - 2s 219us/step - loss: 0.4030 - acc: 0.8361\n",
      "Epoch 29/50\n",
      "7200/7200 [==============================] - 2s 288us/step - loss: 0.4027 - acc: 0.8340\n",
      "Epoch 30/50\n",
      "7200/7200 [==============================] - 1s 168us/step - loss: 0.4021 - acc: 0.8361 1s - los\n",
      "Epoch 31/50\n",
      "7200/7200 [==============================] - 1s 192us/step - loss: 0.4024 - acc: 0.8347\n",
      "Epoch 32/50\n",
      "7200/7200 [==============================] - 1s 180us/step - loss: 0.4021 - acc: 0.8361\n",
      "Epoch 33/50\n",
      "7200/7200 [==============================] - 1s 179us/step - loss: 0.4020 - acc: 0.8361\n",
      "Epoch 34/50\n",
      "7200/7200 [==============================] - 1s 203us/step - loss: 0.4022 - acc: 0.8353\n",
      "Epoch 35/50\n",
      "7200/7200 [==============================] - 1s 172us/step - loss: 0.4019 - acc: 0.8356\n",
      "Epoch 36/50\n",
      "7200/7200 [==============================] - 1s 195us/step - loss: 0.4009 - acc: 0.8342\n",
      "Epoch 37/50\n",
      "7200/7200 [==============================] - 1s 179us/step - loss: 0.4015 - acc: 0.8349\n",
      "Epoch 38/50\n",
      "7200/7200 [==============================] - 1s 188us/step - loss: 0.4008 - acc: 0.8360\n",
      "Epoch 39/50\n",
      "7200/7200 [==============================] - 1s 200us/step - loss: 0.4015 - acc: 0.8347\n",
      "Epoch 40/50\n",
      "7200/7200 [==============================] - ETA: 0s - loss: 0.4008 - acc: 0.835 - 1s 189us/step - loss: 0.4015 - acc: 0.8340\n",
      "Epoch 41/50\n",
      "7200/7200 [==============================] - 1s 173us/step - loss: 0.4018 - acc: 0.8351\n",
      "Epoch 42/50\n",
      "7200/7200 [==============================] - 1s 171us/step - loss: 0.4012 - acc: 0.8349\n",
      "Epoch 43/50\n",
      "7200/7200 [==============================] - 1s 157us/step - loss: 0.4009 - acc: 0.8353\n",
      "Epoch 44/50\n",
      "7200/7200 [==============================] - 1s 183us/step - loss: 0.4012 - acc: 0.8337\n",
      "Epoch 45/50\n",
      "7200/7200 [==============================] - 2s 209us/step - loss: 0.4007 - acc: 0.8362\n",
      "Epoch 46/50\n",
      "7200/7200 [==============================] - 1s 172us/step - loss: 0.4009 - acc: 0.8344\n",
      "Epoch 47/50\n",
      "7200/7200 [==============================] - 2s 210us/step - loss: 0.4002 - acc: 0.8347\n",
      "Epoch 48/50\n",
      "7200/7200 [==============================] - 1s 175us/step - loss: 0.4012 - acc: 0.8343\n",
      "Epoch 49/50\n",
      "7200/7200 [==============================] - 2s 225us/step - loss: 0.4004 - acc: 0.8350\n",
      "Epoch 50/50\n",
      "7200/7200 [==============================] - 2s 243us/step - loss: 0.4007 - acc: 0.8350\n",
      "800/800 [==============================] - 0s 230us/step\n",
      "Epoch 1/50\n",
      "7200/7200 [==============================] - 2s 317us/step - loss: 0.4884 - acc: 0.7962\n",
      "Epoch 2/50\n",
      "7200/7200 [==============================] - 2s 216us/step - loss: 0.4290 - acc: 0.7967\n",
      "Epoch 3/50\n",
      "7200/7200 [==============================] - 1s 204us/step - loss: 0.4241 - acc: 0.7967\n",
      "Epoch 4/50\n",
      "7200/7200 [==============================] - 2s 222us/step - loss: 0.4199 - acc: 0.8078\n",
      "Epoch 5/50\n",
      "7200/7200 [==============================] - 2s 232us/step - loss: 0.4173 - acc: 0.8236\n",
      "Epoch 6/50\n",
      "7200/7200 [==============================] - 2s 272us/step - loss: 0.4152 - acc: 0.8279\n",
      "Epoch 7/50\n",
      "7200/7200 [==============================] - 2s 259us/step - loss: 0.4141 - acc: 0.8272\n",
      "Epoch 8/50\n",
      "7200/7200 [==============================] - 2s 238us/step - loss: 0.4131 - acc: 0.8286\n",
      "Epoch 9/50\n",
      "7200/7200 [==============================] - 2s 231us/step - loss: 0.4119 - acc: 0.8303\n",
      "Epoch 10/50\n",
      "7200/7200 [==============================] - 2s 249us/step - loss: 0.4113 - acc: 0.8317\n",
      "Epoch 11/50\n",
      "7200/7200 [==============================] - 2s 213us/step - loss: 0.4108 - acc: 0.8315\n",
      "Epoch 12/50\n",
      "7200/7200 [==============================] - 2s 296us/step - loss: 0.4096 - acc: 0.8326\n",
      "Epoch 13/50\n",
      "7200/7200 [==============================] - 1s 198us/step - loss: 0.4087 - acc: 0.8329\n",
      "Epoch 14/50\n"
     ]
    },
    {
     "name": "stdout",
     "output_type": "stream",
     "text": [
      "7200/7200 [==============================] - 2s 256us/step - loss: 0.4086 - acc: 0.8317\n",
      "Epoch 15/50\n",
      "7200/7200 [==============================] - 1s 189us/step - loss: 0.4077 - acc: 0.8311\n",
      "Epoch 16/50\n",
      "7200/7200 [==============================] - 2s 242us/step - loss: 0.4071 - acc: 0.8333\n",
      "Epoch 17/50\n",
      "7200/7200 [==============================] - 2s 239us/step - loss: 0.4057 - acc: 0.8361\n",
      "Epoch 18/50\n",
      "7200/7200 [==============================] - 2s 217us/step - loss: 0.4047 - acc: 0.8339\n",
      "Epoch 19/50\n",
      "7200/7200 [==============================] - 2s 227us/step - loss: 0.4035 - acc: 0.8333\n",
      "Epoch 20/50\n",
      "7200/7200 [==============================] - 1s 177us/step - loss: 0.4029 - acc: 0.8354\n",
      "Epoch 21/50\n",
      "7200/7200 [==============================] - 1s 195us/step - loss: 0.4021 - acc: 0.8358\n",
      "Epoch 22/50\n",
      "7200/7200 [==============================] - 1s 173us/step - loss: 0.4012 - acc: 0.8350\n",
      "Epoch 23/50\n",
      "7200/7200 [==============================] - 1s 177us/step - loss: 0.4004 - acc: 0.8336\n",
      "Epoch 24/50\n",
      "7200/7200 [==============================] - 1s 205us/step - loss: 0.4002 - acc: 0.8354\n",
      "Epoch 25/50\n",
      "7200/7200 [==============================] - 2s 210us/step - loss: 0.3994 - acc: 0.8372\n",
      "Epoch 26/50\n",
      "7200/7200 [==============================] - 1s 207us/step - loss: 0.3988 - acc: 0.8357\n",
      "Epoch 27/50\n",
      "7200/7200 [==============================] - 1s 193us/step - loss: 0.3985 - acc: 0.8368\n",
      "Epoch 28/50\n",
      "7200/7200 [==============================] - 1s 196us/step - loss: 0.3978 - acc: 0.8362\n",
      "Epoch 29/50\n",
      "7200/7200 [==============================] - 1s 187us/step - loss: 0.3983 - acc: 0.8357\n",
      "Epoch 30/50\n",
      "7200/7200 [==============================] - 1s 195us/step - loss: 0.3974 - acc: 0.8369\n",
      "Epoch 31/50\n",
      "7200/7200 [==============================] - 1s 204us/step - loss: 0.3974 - acc: 0.8340\n",
      "Epoch 32/50\n",
      "7200/7200 [==============================] - 2s 216us/step - loss: 0.3969 - acc: 0.8331\n",
      "Epoch 33/50\n",
      "7200/7200 [==============================] - 2s 231us/step - loss: 0.3970 - acc: 0.8354\n",
      "Epoch 34/50\n",
      "7200/7200 [==============================] - 1s 190us/step - loss: 0.3964 - acc: 0.8367\n",
      "Epoch 35/50\n",
      "7200/7200 [==============================] - 2s 249us/step - loss: 0.3965 - acc: 0.8350\n",
      "Epoch 36/50\n",
      "7200/7200 [==============================] - 2s 209us/step - loss: 0.3959 - acc: 0.8333\n",
      "Epoch 37/50\n",
      "7200/7200 [==============================] - 2s 233us/step - loss: 0.3953 - acc: 0.8349\n",
      "Epoch 38/50\n",
      "7200/7200 [==============================] - 2s 308us/step - loss: 0.3963 - acc: 0.8342\n",
      "Epoch 39/50\n",
      "7200/7200 [==============================] - 2s 218us/step - loss: 0.3955 - acc: 0.8360\n",
      "Epoch 40/50\n",
      "7200/7200 [==============================] - 2s 253us/step - loss: 0.3958 - acc: 0.8350\n",
      "Epoch 41/50\n",
      "7200/7200 [==============================] - 1s 207us/step - loss: 0.3954 - acc: 0.8346\n",
      "Epoch 42/50\n",
      "7200/7200 [==============================] - 1s 190us/step - loss: 0.3952 - acc: 0.8337\n",
      "Epoch 43/50\n",
      "7200/7200 [==============================] - 1s 177us/step - loss: 0.3952 - acc: 0.8344\n",
      "Epoch 44/50\n",
      "7200/7200 [==============================] - 1s 197us/step - loss: 0.3949 - acc: 0.8346\n",
      "Epoch 45/50\n",
      "1440/7200 [=====>........................] - ETA: 1s - loss: 0.3778 - acc: 0.8417"
     ]
    }
   ],
   "source": [
    "accuracies = cross_val_score(estimator = classifier, X = X_train, y = y_train, cv = 10)"
   ]
  },
  {
   "cell_type": "code",
   "execution_count": null,
   "metadata": {},
   "outputs": [],
   "source": [
    "mean = accuracies.mean()\n",
    "print('Average accuracy during cross validation: ', mean) "
   ]
  },
  {
   "cell_type": "code",
   "execution_count": null,
   "metadata": {},
   "outputs": [],
   "source": [
    "accuracies"
   ]
  },
  {
   "cell_type": "code",
   "execution_count": null,
   "metadata": {},
   "outputs": [],
   "source": [
    "std = accuracies.std()\n",
    "print('Accuracy std cross validation: ', std) "
   ]
  },
  {
   "cell_type": "markdown",
   "metadata": {},
   "source": [
    "## Parameter tuning"
   ]
  },
  {
   "cell_type": "code",
   "execution_count": null,
   "metadata": {},
   "outputs": [],
   "source": [
    "def build_classifier(optimizer):\n",
    "    classifier = Sequential()\n",
    "    classifier.add(Dense(units = 6, kernel_initializer = 'uniform', activation = 'relu', input_dim = 11))\n",
    "    classifier.add(Dense(units = 6, kernel_initializer = 'uniform', activation = 'relu'))\n",
    "    classifier.add(Dense(units = 1, kernel_initializer = 'uniform', activation = 'sigmoid'))\n",
    "    classifier.compile(optimizer = optimizer, loss = 'binary_crossentropy', metrics = ['accuracy'])\n",
    "    return classifier"
   ]
  },
  {
   "cell_type": "code",
   "execution_count": null,
   "metadata": {},
   "outputs": [],
   "source": [
    "classifier = KerasClassifier(build_fn = build_classifier)"
   ]
  },
  {
   "cell_type": "code",
   "execution_count": null,
   "metadata": {},
   "outputs": [],
   "source": [
    "#define parameter to optimize\n",
    "#dict key needs to be the same name as defined in classifer\n",
    "parameters = {'batch_size': [25, 32],\n",
    "              'epochs': [50, 100, 200],\n",
    "              'optimizer': ['adam', 'rmsprop']}"
   ]
  },
  {
   "cell_type": "code",
   "execution_count": null,
   "metadata": {},
   "outputs": [],
   "source": [
    "grid_search = GridSearchCV(estimator = classifier,\n",
    "                            param_grid = parameters,\n",
    "                            scoring = 'accuracy',\n",
    "                            cv = 10)"
   ]
  },
  {
   "cell_type": "code",
   "execution_count": null,
   "metadata": {
    "scrolled": true
   },
   "outputs": [],
   "source": [
    "grid_search = grid_search.fit(X_train, y_train)"
   ]
  },
  {
   "cell_type": "code",
   "execution_count": null,
   "metadata": {},
   "outputs": [],
   "source": [
    "#get the best parameter and best score"
   ]
  },
  {
   "cell_type": "code",
   "execution_count": null,
   "metadata": {},
   "outputs": [],
   "source": [
    "best_parameters = grid_search.best_params_\n",
    "best_accuracy = grid_search.best_score_"
   ]
  },
  {
   "cell_type": "code",
   "execution_count": null,
   "metadata": {},
   "outputs": [],
   "source": [
    "print('Best parameters are: ', best_parameters)"
   ]
  },
  {
   "cell_type": "code",
   "execution_count": null,
   "metadata": {},
   "outputs": [],
   "source": [
    "print('Best accuracy are: ', best_accuracy)"
   ]
  },
  {
   "cell_type": "code",
   "execution_count": null,
   "metadata": {},
   "outputs": [],
   "source": []
  }
 ],
 "metadata": {
  "kernelspec": {
   "display_name": "Python 3",
   "language": "python",
   "name": "python3"
  },
  "language_info": {
   "codemirror_mode": {
    "name": "ipython",
    "version": 3
   },
   "file_extension": ".py",
   "mimetype": "text/x-python",
   "name": "python",
   "nbconvert_exporter": "python",
   "pygments_lexer": "ipython3",
   "version": "3.7.3"
  }
 },
 "nbformat": 4,
 "nbformat_minor": 4
}
