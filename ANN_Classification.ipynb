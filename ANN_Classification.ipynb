{
 "cells": [
  {
   "cell_type": "code",
   "execution_count": 1,
   "metadata": {},
   "outputs": [],
   "source": [
    "import numpy as np\n",
    "import matplotlib.pyplot as plt\n",
    "import pandas as pd"
   ]
  },
  {
   "cell_type": "markdown",
   "metadata": {},
   "source": [
    "# Data processing"
   ]
  },
  {
   "cell_type": "code",
   "execution_count": 5,
   "metadata": {},
   "outputs": [],
   "source": [
    "dataset = pd.read_csv('Churn_Modelling.csv')"
   ]
  },
  {
   "cell_type": "code",
   "execution_count": 7,
   "metadata": {
    "scrolled": true
   },
   "outputs": [
    {
     "data": {
      "text/html": [
       "<div>\n",
       "<style scoped>\n",
       "    .dataframe tbody tr th:only-of-type {\n",
       "        vertical-align: middle;\n",
       "    }\n",
       "\n",
       "    .dataframe tbody tr th {\n",
       "        vertical-align: top;\n",
       "    }\n",
       "\n",
       "    .dataframe thead th {\n",
       "        text-align: right;\n",
       "    }\n",
       "</style>\n",
       "<table border=\"1\" class=\"dataframe\">\n",
       "  <thead>\n",
       "    <tr style=\"text-align: right;\">\n",
       "      <th></th>\n",
       "      <th>RowNumber</th>\n",
       "      <th>CustomerId</th>\n",
       "      <th>Surname</th>\n",
       "      <th>CreditScore</th>\n",
       "      <th>Geography</th>\n",
       "      <th>Gender</th>\n",
       "      <th>Age</th>\n",
       "      <th>Tenure</th>\n",
       "      <th>Balance</th>\n",
       "      <th>NumOfProducts</th>\n",
       "      <th>HasCrCard</th>\n",
       "      <th>IsActiveMember</th>\n",
       "      <th>EstimatedSalary</th>\n",
       "      <th>Exited</th>\n",
       "    </tr>\n",
       "  </thead>\n",
       "  <tbody>\n",
       "    <tr>\n",
       "      <th>0</th>\n",
       "      <td>1</td>\n",
       "      <td>15634602</td>\n",
       "      <td>Hargrave</td>\n",
       "      <td>619</td>\n",
       "      <td>France</td>\n",
       "      <td>Female</td>\n",
       "      <td>42</td>\n",
       "      <td>2</td>\n",
       "      <td>0.00</td>\n",
       "      <td>1</td>\n",
       "      <td>1</td>\n",
       "      <td>1</td>\n",
       "      <td>101348.88</td>\n",
       "      <td>1</td>\n",
       "    </tr>\n",
       "    <tr>\n",
       "      <th>1</th>\n",
       "      <td>2</td>\n",
       "      <td>15647311</td>\n",
       "      <td>Hill</td>\n",
       "      <td>608</td>\n",
       "      <td>Spain</td>\n",
       "      <td>Female</td>\n",
       "      <td>41</td>\n",
       "      <td>1</td>\n",
       "      <td>83807.86</td>\n",
       "      <td>1</td>\n",
       "      <td>0</td>\n",
       "      <td>1</td>\n",
       "      <td>112542.58</td>\n",
       "      <td>0</td>\n",
       "    </tr>\n",
       "    <tr>\n",
       "      <th>2</th>\n",
       "      <td>3</td>\n",
       "      <td>15619304</td>\n",
       "      <td>Onio</td>\n",
       "      <td>502</td>\n",
       "      <td>France</td>\n",
       "      <td>Female</td>\n",
       "      <td>42</td>\n",
       "      <td>8</td>\n",
       "      <td>159660.80</td>\n",
       "      <td>3</td>\n",
       "      <td>1</td>\n",
       "      <td>0</td>\n",
       "      <td>113931.57</td>\n",
       "      <td>1</td>\n",
       "    </tr>\n",
       "    <tr>\n",
       "      <th>3</th>\n",
       "      <td>4</td>\n",
       "      <td>15701354</td>\n",
       "      <td>Boni</td>\n",
       "      <td>699</td>\n",
       "      <td>France</td>\n",
       "      <td>Female</td>\n",
       "      <td>39</td>\n",
       "      <td>1</td>\n",
       "      <td>0.00</td>\n",
       "      <td>2</td>\n",
       "      <td>0</td>\n",
       "      <td>0</td>\n",
       "      <td>93826.63</td>\n",
       "      <td>0</td>\n",
       "    </tr>\n",
       "    <tr>\n",
       "      <th>4</th>\n",
       "      <td>5</td>\n",
       "      <td>15737888</td>\n",
       "      <td>Mitchell</td>\n",
       "      <td>850</td>\n",
       "      <td>Spain</td>\n",
       "      <td>Female</td>\n",
       "      <td>43</td>\n",
       "      <td>2</td>\n",
       "      <td>125510.82</td>\n",
       "      <td>1</td>\n",
       "      <td>1</td>\n",
       "      <td>1</td>\n",
       "      <td>79084.10</td>\n",
       "      <td>0</td>\n",
       "    </tr>\n",
       "  </tbody>\n",
       "</table>\n",
       "</div>"
      ],
      "text/plain": [
       "   RowNumber  CustomerId   Surname  CreditScore Geography  Gender  Age  \\\n",
       "0          1    15634602  Hargrave          619    France  Female   42   \n",
       "1          2    15647311      Hill          608     Spain  Female   41   \n",
       "2          3    15619304      Onio          502    France  Female   42   \n",
       "3          4    15701354      Boni          699    France  Female   39   \n",
       "4          5    15737888  Mitchell          850     Spain  Female   43   \n",
       "\n",
       "   Tenure    Balance  NumOfProducts  HasCrCard  IsActiveMember  \\\n",
       "0       2       0.00              1          1               1   \n",
       "1       1   83807.86              1          0               1   \n",
       "2       8  159660.80              3          1               0   \n",
       "3       1       0.00              2          0               0   \n",
       "4       2  125510.82              1          1               1   \n",
       "\n",
       "   EstimatedSalary  Exited  \n",
       "0        101348.88       1  \n",
       "1        112542.58       0  \n",
       "2        113931.57       1  \n",
       "3         93826.63       0  \n",
       "4         79084.10       0  "
      ]
     },
     "execution_count": 7,
     "metadata": {},
     "output_type": "execute_result"
    }
   ],
   "source": [
    "dataset.head()"
   ]
  },
  {
   "cell_type": "code",
   "execution_count": 9,
   "metadata": {},
   "outputs": [
    {
     "data": {
      "text/plain": [
       "Index(['RowNumber', 'CustomerId', 'Surname', 'CreditScore', 'Geography',\n",
       "       'Gender', 'Age', 'Tenure', 'Balance', 'NumOfProducts', 'HasCrCard',\n",
       "       'IsActiveMember', 'EstimatedSalary', 'Exited'],\n",
       "      dtype='object')"
      ]
     },
     "execution_count": 9,
     "metadata": {},
     "output_type": "execute_result"
    }
   ],
   "source": [
    "dataset.columns"
   ]
  },
  {
   "cell_type": "markdown",
   "metadata": {},
   "source": [
    "## Feature selection"
   ]
  },
  {
   "cell_type": "code",
   "execution_count": 10,
   "metadata": {},
   "outputs": [],
   "source": [
    "X = dataset.iloc[:, 3: 13].values"
   ]
  },
  {
   "cell_type": "code",
   "execution_count": 11,
   "metadata": {},
   "outputs": [
    {
     "data": {
      "text/plain": [
       "array([[619, 'France', 'Female', ..., 1, 1, 101348.88],\n",
       "       [608, 'Spain', 'Female', ..., 0, 1, 112542.58],\n",
       "       [502, 'France', 'Female', ..., 1, 0, 113931.57],\n",
       "       ...,\n",
       "       [709, 'France', 'Female', ..., 0, 1, 42085.58],\n",
       "       [772, 'Germany', 'Male', ..., 1, 0, 92888.52],\n",
       "       [792, 'France', 'Female', ..., 1, 0, 38190.78]], dtype=object)"
      ]
     },
     "execution_count": 11,
     "metadata": {},
     "output_type": "execute_result"
    }
   ],
   "source": [
    "X"
   ]
  },
  {
   "cell_type": "code",
   "execution_count": 13,
   "metadata": {},
   "outputs": [],
   "source": [
    "y = dataset.iloc[:, 13].values"
   ]
  },
  {
   "cell_type": "code",
   "execution_count": 14,
   "metadata": {},
   "outputs": [
    {
     "data": {
      "text/plain": [
       "array([1, 0, 1, ..., 1, 1, 0], dtype=int64)"
      ]
     },
     "execution_count": 14,
     "metadata": {},
     "output_type": "execute_result"
    }
   ],
   "source": [
    "y"
   ]
  },
  {
   "cell_type": "markdown",
   "metadata": {},
   "source": [
    "## categorical encoding"
   ]
  },
  {
   "cell_type": "code",
   "execution_count": 12,
   "metadata": {},
   "outputs": [],
   "source": [
    "from sklearn.preprocessing import LabelEncoder, OneHotEncoder"
   ]
  },
  {
   "cell_type": "code",
   "execution_count": 15,
   "metadata": {},
   "outputs": [],
   "source": [
    "#Label encoder for 'country', 1 is the index of 'country' col\n",
    "labelencoder_X_1 = LabelEncoder()\n",
    "X[:, 1] = labelencoder_X_1.fit_transform(X[:, 1])"
   ]
  },
  {
   "cell_type": "code",
   "execution_count": 18,
   "metadata": {},
   "outputs": [
    {
     "data": {
      "text/plain": [
       "array([[619, 0, 0, ..., 1, 1, 101348.88],\n",
       "       [608, 2, 0, ..., 0, 1, 112542.58],\n",
       "       [502, 0, 0, ..., 1, 0, 113931.57],\n",
       "       ...,\n",
       "       [709, 0, 0, ..., 0, 1, 42085.58],\n",
       "       [772, 1, 1, ..., 1, 0, 92888.52],\n",
       "       [792, 0, 0, ..., 1, 0, 38190.78]], dtype=object)"
      ]
     },
     "execution_count": 18,
     "metadata": {},
     "output_type": "execute_result"
    }
   ],
   "source": [
    "X"
   ]
  },
  {
   "cell_type": "code",
   "execution_count": 16,
   "metadata": {},
   "outputs": [],
   "source": [
    "labelencoder_X_2 = LabelEncoder()\n",
    "X[:, 2] = labelencoder_X_2.fit_transform(X[:, 2])"
   ]
  },
  {
   "cell_type": "code",
   "execution_count": 19,
   "metadata": {},
   "outputs": [],
   "source": [
    "from sklearn.preprocessing import OneHotEncoder"
   ]
  },
  {
   "cell_type": "markdown",
   "metadata": {},
   "source": [
    "## One-hot encoding"
   ]
  },
  {
   "cell_type": "code",
   "execution_count": 20,
   "metadata": {},
   "outputs": [
    {
     "name": "stderr",
     "output_type": "stream",
     "text": [
      "C:\\Users\\kx764qe\\AppData\\Roaming\\Python\\Python37\\site-packages\\sklearn\\preprocessing\\_encoders.py:415: FutureWarning: The handling of integer data will change in version 0.22. Currently, the categories are determined based on the range [0, max(values)], while in the future they will be determined based on the unique values.\n",
      "If you want the future behaviour and silence this warning, you can specify \"categories='auto'\".\n",
      "In case you used a LabelEncoder before this OneHotEncoder to convert the categories to integers, then you can now use the OneHotEncoder directly.\n",
      "  warnings.warn(msg, FutureWarning)\n",
      "C:\\Users\\kx764qe\\AppData\\Roaming\\Python\\Python37\\site-packages\\sklearn\\preprocessing\\_encoders.py:451: DeprecationWarning: The 'categorical_features' keyword is deprecated in version 0.20 and will be removed in 0.22. You can use the ColumnTransformer instead.\n",
      "  \"use the ColumnTransformer instead.\", DeprecationWarning)\n"
     ]
    }
   ],
   "source": [
    "#One-hot encoding 'country' col\n",
    "onehotencoder = OneHotEncoder(categorical_features = [1])\n",
    "X = onehotencoder.fit_transform(X).toarray()"
   ]
  },
  {
   "cell_type": "code",
   "execution_count": 21,
   "metadata": {},
   "outputs": [
    {
     "data": {
      "text/plain": [
       "array([[1.0000000e+00, 0.0000000e+00, 0.0000000e+00, ..., 1.0000000e+00,\n",
       "        1.0000000e+00, 1.0134888e+05],\n",
       "       [0.0000000e+00, 0.0000000e+00, 1.0000000e+00, ..., 0.0000000e+00,\n",
       "        1.0000000e+00, 1.1254258e+05],\n",
       "       [1.0000000e+00, 0.0000000e+00, 0.0000000e+00, ..., 1.0000000e+00,\n",
       "        0.0000000e+00, 1.1393157e+05],\n",
       "       ...,\n",
       "       [1.0000000e+00, 0.0000000e+00, 0.0000000e+00, ..., 0.0000000e+00,\n",
       "        1.0000000e+00, 4.2085580e+04],\n",
       "       [0.0000000e+00, 1.0000000e+00, 0.0000000e+00, ..., 1.0000000e+00,\n",
       "        0.0000000e+00, 9.2888520e+04],\n",
       "       [1.0000000e+00, 0.0000000e+00, 0.0000000e+00, ..., 1.0000000e+00,\n",
       "        0.0000000e+00, 3.8190780e+04]])"
      ]
     },
     "execution_count": 21,
     "metadata": {},
     "output_type": "execute_result"
    }
   ],
   "source": [
    "X"
   ]
  },
  {
   "cell_type": "code",
   "execution_count": 22,
   "metadata": {},
   "outputs": [],
   "source": [
    "X = X[:, 1:]"
   ]
  },
  {
   "cell_type": "markdown",
   "metadata": {},
   "source": [
    "## data split"
   ]
  },
  {
   "cell_type": "code",
   "execution_count": 23,
   "metadata": {},
   "outputs": [],
   "source": [
    "# Splitting the dataset into the Training set and Test set\n",
    "from sklearn.model_selection import train_test_split"
   ]
  },
  {
   "cell_type": "code",
   "execution_count": 24,
   "metadata": {},
   "outputs": [],
   "source": [
    "\n",
    "X_train, X_test, y_train, y_test = train_test_split(X, y, \n",
    "                                                    test_size = 0.2, random_state = 0)\n"
   ]
  },
  {
   "cell_type": "code",
   "execution_count": 25,
   "metadata": {},
   "outputs": [],
   "source": [
    "from sklearn.preprocessing import StandardScaler"
   ]
  },
  {
   "cell_type": "markdown",
   "metadata": {},
   "source": [
    "## Feature scaling"
   ]
  },
  {
   "cell_type": "code",
   "execution_count": 26,
   "metadata": {},
   "outputs": [],
   "source": [
    "sc = StandardScaler()\n",
    "X_train = sc.fit_transform(X_train)\n",
    "X_test = sc.transform(X_test)"
   ]
  },
  {
   "cell_type": "markdown",
   "metadata": {},
   "source": [
    "# Model building"
   ]
  },
  {
   "cell_type": "code",
   "execution_count": 27,
   "metadata": {},
   "outputs": [
    {
     "name": "stderr",
     "output_type": "stream",
     "text": [
      "Using TensorFlow backend.\n",
      "C:\\Users\\kx764qe\\AppData\\Local\\Continuum\\anaconda3\\envs\\courses\\lib\\site-packages\\tensorflow\\python\\framework\\dtypes.py:516: FutureWarning: Passing (type, 1) or '1type' as a synonym of type is deprecated; in a future version of numpy, it will be understood as (type, (1,)) / '(1,)type'.\n",
      "  _np_qint8 = np.dtype([(\"qint8\", np.int8, 1)])\n",
      "C:\\Users\\kx764qe\\AppData\\Local\\Continuum\\anaconda3\\envs\\courses\\lib\\site-packages\\tensorflow\\python\\framework\\dtypes.py:517: FutureWarning: Passing (type, 1) or '1type' as a synonym of type is deprecated; in a future version of numpy, it will be understood as (type, (1,)) / '(1,)type'.\n",
      "  _np_quint8 = np.dtype([(\"quint8\", np.uint8, 1)])\n",
      "C:\\Users\\kx764qe\\AppData\\Local\\Continuum\\anaconda3\\envs\\courses\\lib\\site-packages\\tensorflow\\python\\framework\\dtypes.py:518: FutureWarning: Passing (type, 1) or '1type' as a synonym of type is deprecated; in a future version of numpy, it will be understood as (type, (1,)) / '(1,)type'.\n",
      "  _np_qint16 = np.dtype([(\"qint16\", np.int16, 1)])\n",
      "C:\\Users\\kx764qe\\AppData\\Local\\Continuum\\anaconda3\\envs\\courses\\lib\\site-packages\\tensorflow\\python\\framework\\dtypes.py:519: FutureWarning: Passing (type, 1) or '1type' as a synonym of type is deprecated; in a future version of numpy, it will be understood as (type, (1,)) / '(1,)type'.\n",
      "  _np_quint16 = np.dtype([(\"quint16\", np.uint16, 1)])\n",
      "C:\\Users\\kx764qe\\AppData\\Local\\Continuum\\anaconda3\\envs\\courses\\lib\\site-packages\\tensorflow\\python\\framework\\dtypes.py:520: FutureWarning: Passing (type, 1) or '1type' as a synonym of type is deprecated; in a future version of numpy, it will be understood as (type, (1,)) / '(1,)type'.\n",
      "  _np_qint32 = np.dtype([(\"qint32\", np.int32, 1)])\n",
      "C:\\Users\\kx764qe\\AppData\\Local\\Continuum\\anaconda3\\envs\\courses\\lib\\site-packages\\tensorflow\\python\\framework\\dtypes.py:525: FutureWarning: Passing (type, 1) or '1type' as a synonym of type is deprecated; in a future version of numpy, it will be understood as (type, (1,)) / '(1,)type'.\n",
      "  np_resource = np.dtype([(\"resource\", np.ubyte, 1)])\n",
      "C:\\Users\\kx764qe\\AppData\\Local\\Continuum\\anaconda3\\envs\\courses\\lib\\site-packages\\tensorboard\\compat\\tensorflow_stub\\dtypes.py:541: FutureWarning: Passing (type, 1) or '1type' as a synonym of type is deprecated; in a future version of numpy, it will be understood as (type, (1,)) / '(1,)type'.\n",
      "  _np_qint8 = np.dtype([(\"qint8\", np.int8, 1)])\n",
      "C:\\Users\\kx764qe\\AppData\\Local\\Continuum\\anaconda3\\envs\\courses\\lib\\site-packages\\tensorboard\\compat\\tensorflow_stub\\dtypes.py:542: FutureWarning: Passing (type, 1) or '1type' as a synonym of type is deprecated; in a future version of numpy, it will be understood as (type, (1,)) / '(1,)type'.\n",
      "  _np_quint8 = np.dtype([(\"quint8\", np.uint8, 1)])\n",
      "C:\\Users\\kx764qe\\AppData\\Local\\Continuum\\anaconda3\\envs\\courses\\lib\\site-packages\\tensorboard\\compat\\tensorflow_stub\\dtypes.py:543: FutureWarning: Passing (type, 1) or '1type' as a synonym of type is deprecated; in a future version of numpy, it will be understood as (type, (1,)) / '(1,)type'.\n",
      "  _np_qint16 = np.dtype([(\"qint16\", np.int16, 1)])\n",
      "C:\\Users\\kx764qe\\AppData\\Local\\Continuum\\anaconda3\\envs\\courses\\lib\\site-packages\\tensorboard\\compat\\tensorflow_stub\\dtypes.py:544: FutureWarning: Passing (type, 1) or '1type' as a synonym of type is deprecated; in a future version of numpy, it will be understood as (type, (1,)) / '(1,)type'.\n",
      "  _np_quint16 = np.dtype([(\"quint16\", np.uint16, 1)])\n",
      "C:\\Users\\kx764qe\\AppData\\Local\\Continuum\\anaconda3\\envs\\courses\\lib\\site-packages\\tensorboard\\compat\\tensorflow_stub\\dtypes.py:545: FutureWarning: Passing (type, 1) or '1type' as a synonym of type is deprecated; in a future version of numpy, it will be understood as (type, (1,)) / '(1,)type'.\n",
      "  _np_qint32 = np.dtype([(\"qint32\", np.int32, 1)])\n",
      "C:\\Users\\kx764qe\\AppData\\Local\\Continuum\\anaconda3\\envs\\courses\\lib\\site-packages\\tensorboard\\compat\\tensorflow_stub\\dtypes.py:550: FutureWarning: Passing (type, 1) or '1type' as a synonym of type is deprecated; in a future version of numpy, it will be understood as (type, (1,)) / '(1,)type'.\n",
      "  np_resource = np.dtype([(\"resource\", np.ubyte, 1)])\n"
     ]
    }
   ],
   "source": [
    "import keras\n",
    "from keras.models import Sequential\n",
    "from keras.layers import Dense\n",
    "from keras.layers import Dropout"
   ]
  },
  {
   "cell_type": "code",
   "execution_count": 28,
   "metadata": {},
   "outputs": [
    {
     "name": "stdout",
     "output_type": "stream",
     "text": [
      "WARNING:tensorflow:From C:\\Users\\kx764qe\\AppData\\Roaming\\Python\\Python37\\site-packages\\keras\\backend\\tensorflow_backend.py:74: The name tf.get_default_graph is deprecated. Please use tf.compat.v1.get_default_graph instead.\n",
      "\n"
     ]
    }
   ],
   "source": [
    "#initialize the nerual network\n",
    "classifier = Sequential()"
   ]
  },
  {
   "cell_type": "code",
   "execution_count": 29,
   "metadata": {},
   "outputs": [
    {
     "name": "stdout",
     "output_type": "stream",
     "text": [
      "WARNING:tensorflow:From C:\\Users\\kx764qe\\AppData\\Roaming\\Python\\Python37\\site-packages\\keras\\backend\\tensorflow_backend.py:517: The name tf.placeholder is deprecated. Please use tf.compat.v1.placeholder instead.\n",
      "\n",
      "WARNING:tensorflow:From C:\\Users\\kx764qe\\AppData\\Roaming\\Python\\Python37\\site-packages\\keras\\backend\\tensorflow_backend.py:4138: The name tf.random_uniform is deprecated. Please use tf.random.uniform instead.\n",
      "\n",
      "WARNING:tensorflow:From C:\\Users\\kx764qe\\AppData\\Roaming\\Python\\Python37\\site-packages\\keras\\backend\\tensorflow_backend.py:133: The name tf.placeholder_with_default is deprecated. Please use tf.compat.v1.placeholder_with_default instead.\n",
      "\n",
      "WARNING:tensorflow:From C:\\Users\\kx764qe\\AppData\\Roaming\\Python\\Python37\\site-packages\\keras\\backend\\tensorflow_backend.py:3445: calling dropout (from tensorflow.python.ops.nn_ops) with keep_prob is deprecated and will be removed in a future version.\n",
      "Instructions for updating:\n",
      "Please use `rate` instead of `keep_prob`. Rate should be set to `rate = 1 - keep_prob`.\n"
     ]
    },
    {
     "name": "stderr",
     "output_type": "stream",
     "text": [
      "C:\\Users\\kx764qe\\AppData\\Local\\Continuum\\anaconda3\\envs\\courses\\lib\\site-packages\\ipykernel_launcher.py:2: UserWarning: Update your `Dense` call to the Keras 2 API: `Dense(activation=\"relu\", input_dim=11, units=6, kernel_initializer=\"uniform\")`\n",
      "  \n",
      "C:\\Users\\kx764qe\\AppData\\Local\\Continuum\\anaconda3\\envs\\courses\\lib\\site-packages\\ipykernel_launcher.py:4: UserWarning: Update your `Dropout` call to the Keras 2 API: `Dropout(rate=0.1)`\n",
      "  after removing the cwd from sys.path.\n",
      "C:\\Users\\kx764qe\\AppData\\Local\\Continuum\\anaconda3\\envs\\courses\\lib\\site-packages\\ipykernel_launcher.py:6: UserWarning: Update your `Dense` call to the Keras 2 API: `Dense(activation=\"relu\", units=6, kernel_initializer=\"uniform\")`\n",
      "  \n",
      "C:\\Users\\kx764qe\\AppData\\Local\\Continuum\\anaconda3\\envs\\courses\\lib\\site-packages\\ipykernel_launcher.py:7: UserWarning: Update your `Dropout` call to the Keras 2 API: `Dropout(rate=0.1)`\n",
      "  import sys\n",
      "C:\\Users\\kx764qe\\AppData\\Local\\Continuum\\anaconda3\\envs\\courses\\lib\\site-packages\\ipykernel_launcher.py:9: UserWarning: Update your `Dense` call to the Keras 2 API: `Dense(activation=\"sigmoid\", units=1, kernel_initializer=\"uniform\")`\n",
      "  if __name__ == '__main__':\n"
     ]
    }
   ],
   "source": [
    "#add input layer and first hidden layer\n",
    "classifier.add(Dense(output_dim = 6, init = 'uniform', activation = 'relu', input_dim = 11))\n",
    "#add dropout layer\n",
    "classifier.add(Dropout(p =0.1))\n",
    "#add 2nd hidden layer\n",
    "classifier.add(Dense(output_dim = 6, init = 'uniform', activation = 'relu'))\n",
    "classifier.add(Dropout(p =0.1))\n",
    "#add output layer\n",
    "classifier.add(Dense(output_dim = 1, init = 'uniform', activation = 'sigmoid'))"
   ]
  },
  {
   "cell_type": "markdown",
   "metadata": {},
   "source": [
    "# compile the model"
   ]
  },
  {
   "cell_type": "code",
   "execution_count": 30,
   "metadata": {},
   "outputs": [
    {
     "name": "stdout",
     "output_type": "stream",
     "text": [
      "WARNING:tensorflow:From C:\\Users\\kx764qe\\AppData\\Roaming\\Python\\Python37\\site-packages\\keras\\optimizers.py:790: The name tf.train.Optimizer is deprecated. Please use tf.compat.v1.train.Optimizer instead.\n",
      "\n",
      "WARNING:tensorflow:From C:\\Users\\kx764qe\\AppData\\Roaming\\Python\\Python37\\site-packages\\keras\\backend\\tensorflow_backend.py:3376: The name tf.log is deprecated. Please use tf.math.log instead.\n",
      "\n",
      "WARNING:tensorflow:From C:\\Users\\kx764qe\\AppData\\Local\\Continuum\\anaconda3\\envs\\courses\\lib\\site-packages\\tensorflow\\python\\ops\\nn_impl.py:180: add_dispatch_support.<locals>.wrapper (from tensorflow.python.ops.array_ops) is deprecated and will be removed in a future version.\n",
      "Instructions for updating:\n",
      "Use tf.where in 2.0, which has the same broadcast rule as np.where\n"
     ]
    }
   ],
   "source": [
    "classifier.compile(optimizer = 'Adam', loss ='binary_crossentropy', metrics = ['accuracy'])"
   ]
  },
  {
   "cell_type": "markdown",
   "metadata": {},
   "source": [
    "# Fit the model"
   ]
  },
  {
   "cell_type": "code",
   "execution_count": 31,
   "metadata": {
    "scrolled": true
   },
   "outputs": [
    {
     "name": "stdout",
     "output_type": "stream",
     "text": [
      "Epoch 1/100\n",
      "8000/8000 [==============================] - 3s 361us/step - loss: 0.5130 - acc: 0.7955\n",
      "Epoch 2/100\n",
      "8000/8000 [==============================] - 2s 247us/step - loss: 0.4328 - acc: 0.8101\n",
      "Epoch 3/100\n",
      "8000/8000 [==============================] - 2s 219us/step - loss: 0.4219 - acc: 0.8205\n",
      "Epoch 4/100\n",
      "8000/8000 [==============================] - 2s 242us/step - loss: 0.4212 - acc: 0.8165\n",
      "Epoch 5/100\n",
      "8000/8000 [==============================] - 2s 287us/step - loss: 0.4191 - acc: 0.8195\n",
      "Epoch 6/100\n",
      "8000/8000 [==============================] - 2s 218us/step - loss: 0.4150 - acc: 0.8187\n",
      "Epoch 7/100\n",
      "8000/8000 [==============================] - 2s 239us/step - loss: 0.4114 - acc: 0.8226\n",
      "Epoch 8/100\n",
      "8000/8000 [==============================] - 3s 321us/step - loss: 0.4089 - acc: 0.8199\n",
      "Epoch 9/100\n",
      "8000/8000 [==============================] - 2s 240us/step - loss: 0.4105 - acc: 0.8212\n",
      "Epoch 10/100\n",
      "8000/8000 [==============================] - 2s 271us/step - loss: 0.4117 - acc: 0.8204\n",
      "Epoch 11/100\n",
      "8000/8000 [==============================] - 3s 317us/step - loss: 0.4036 - acc: 0.8206\n",
      "Epoch 12/100\n",
      "8000/8000 [==============================] - 2s 257us/step - loss: 0.4044 - acc: 0.8225\n",
      "Epoch 13/100\n",
      "8000/8000 [==============================] - 2s 249us/step - loss: 0.4018 - acc: 0.8211\n",
      "Epoch 14/100\n",
      "8000/8000 [==============================] - ETA: 0s - loss: 0.4004 - acc: 0.824 - 2s 254us/step - loss: 0.4014 - acc: 0.8242\n",
      "Epoch 15/100\n",
      "8000/8000 [==============================] - 2s 257us/step - loss: 0.4020 - acc: 0.8261\n",
      "Epoch 16/100\n",
      "8000/8000 [==============================] - 2s 222us/step - loss: 0.4034 - acc: 0.8331\n",
      "Epoch 17/100\n",
      "8000/8000 [==============================] - 2s 223us/step - loss: 0.3996 - acc: 0.8314\n",
      "Epoch 18/100\n",
      "8000/8000 [==============================] - 2s 230us/step - loss: 0.3975 - acc: 0.8316\n",
      "Epoch 19/100\n",
      "8000/8000 [==============================] - 2s 257us/step - loss: 0.3980 - acc: 0.8342\n",
      "Epoch 20/100\n",
      "8000/8000 [==============================] - 2s 235us/step - loss: 0.3972 - acc: 0.8376\n",
      "Epoch 21/100\n",
      "8000/8000 [==============================] - 4s 482us/step - loss: 0.3947 - acc: 0.8344\n",
      "Epoch 22/100\n",
      "8000/8000 [==============================] - 3s 325us/step - loss: 0.3946 - acc: 0.8344\n",
      "Epoch 23/100\n",
      "8000/8000 [==============================] - 3s 325us/step - loss: 0.3932 - acc: 0.8374\n",
      "Epoch 24/100\n",
      "8000/8000 [==============================] - 2s 255us/step - loss: 0.3946 - acc: 0.8334\n",
      "Epoch 25/100\n",
      "8000/8000 [==============================] - 2s 305us/step - loss: 0.3928 - acc: 0.8335\n",
      "Epoch 26/100\n",
      "8000/8000 [==============================] - 3s 329us/step - loss: 0.3962 - acc: 0.8327\n",
      "Epoch 27/100\n",
      "8000/8000 [==============================] - 2s 307us/step - loss: 0.3893 - acc: 0.8362\n",
      "Epoch 28/100\n",
      "8000/8000 [==============================] - 2s 296us/step - loss: 0.3997 - acc: 0.8339 1s -\n",
      "Epoch 29/100\n",
      "8000/8000 [==============================] - 2s 300us/step - loss: 0.3919 - acc: 0.8361\n",
      "Epoch 30/100\n",
      "8000/8000 [==============================] - 2s 288us/step - loss: 0.3987 - acc: 0.8327\n",
      "Epoch 31/100\n",
      "8000/8000 [==============================] - 2s 271us/step - loss: 0.3913 - acc: 0.8336\n",
      "Epoch 32/100\n",
      "8000/8000 [==============================] - 3s 377us/step - loss: 0.3915 - acc: 0.8345\n",
      "Epoch 33/100\n",
      "8000/8000 [==============================] - 3s 327us/step - loss: 0.3967 - acc: 0.8335 1s - loss\n",
      "Epoch 34/100\n",
      "8000/8000 [==============================] - 2s 219us/step - loss: 0.3956 - acc: 0.8321\n",
      "Epoch 35/100\n",
      "8000/8000 [==============================] - 2s 220us/step - loss: 0.3916 - acc: 0.8341\n",
      "Epoch 36/100\n",
      "8000/8000 [==============================] - 2s 252us/step - loss: 0.3903 - acc: 0.8374\n",
      "Epoch 37/100\n",
      "8000/8000 [==============================] - 2s 232us/step - loss: 0.3905 - acc: 0.8341\n",
      "Epoch 38/100\n",
      "8000/8000 [==============================] - 2s 261us/step - loss: 0.3915 - acc: 0.8360\n",
      "Epoch 39/100\n",
      "8000/8000 [==============================] - 2s 245us/step - loss: 0.3934 - acc: 0.8330\n",
      "Epoch 40/100\n",
      "8000/8000 [==============================] - 3s 316us/step - loss: 0.3916 - acc: 0.8355\n",
      "Epoch 41/100\n",
      "8000/8000 [==============================] - 2s 258us/step - loss: 0.3945 - acc: 0.8339\n",
      "Epoch 42/100\n",
      "8000/8000 [==============================] - 2s 302us/step - loss: 0.3967 - acc: 0.8321\n",
      "Epoch 43/100\n",
      "8000/8000 [==============================] - 2s 303us/step - loss: 0.3893 - acc: 0.8359\n",
      "Epoch 44/100\n",
      "8000/8000 [==============================] - 2s 219us/step - loss: 0.3878 - acc: 0.8400\n",
      "Epoch 45/100\n",
      "8000/8000 [==============================] - 2s 212us/step - loss: 0.3890 - acc: 0.8375\n",
      "Epoch 46/100\n",
      "8000/8000 [==============================] - 2s 213us/step - loss: 0.3903 - acc: 0.8372\n",
      "Epoch 47/100\n",
      "8000/8000 [==============================] - 2s 212us/step - loss: 0.3903 - acc: 0.8362\n",
      "Epoch 48/100\n",
      "8000/8000 [==============================] - 3s 372us/step - loss: 0.3939 - acc: 0.8372 1s - loss: 0.3934 - acc\n",
      "Epoch 49/100\n",
      "8000/8000 [==============================] - 3s 353us/step - loss: 0.3888 - acc: 0.8389\n",
      "Epoch 50/100\n",
      "8000/8000 [==============================] - 3s 349us/step - loss: 0.3928 - acc: 0.8376\n",
      "Epoch 51/100\n",
      "8000/8000 [==============================] - 3s 315us/step - loss: 0.3926 - acc: 0.8330\n",
      "Epoch 52/100\n",
      "8000/8000 [==============================] - 2s 294us/step - loss: 0.3930 - acc: 0.8362\n",
      "Epoch 53/100\n",
      "8000/8000 [==============================] - 2s 268us/step - loss: 0.3929 - acc: 0.8355\n",
      "Epoch 54/100\n",
      "8000/8000 [==============================] - 2s 245us/step - loss: 0.3901 - acc: 0.8400\n",
      "Epoch 55/100\n",
      "8000/8000 [==============================] - 2s 243us/step - loss: 0.3885 - acc: 0.8392\n",
      "Epoch 56/100\n",
      "8000/8000 [==============================] - 2s 194us/step - loss: 0.3895 - acc: 0.8362\n",
      "Epoch 57/100\n",
      "8000/8000 [==============================] - 3s 323us/step - loss: 0.3938 - acc: 0.8384\n",
      "Epoch 58/100\n",
      "8000/8000 [==============================] - 3s 328us/step - loss: 0.3891 - acc: 0.8400\n",
      "Epoch 59/100\n",
      "8000/8000 [==============================] - 2s 287us/step - loss: 0.3910 - acc: 0.8364\n",
      "Epoch 60/100\n",
      "8000/8000 [==============================] - 2s 272us/step - loss: 0.3922 - acc: 0.8412\n",
      "Epoch 61/100\n",
      "8000/8000 [==============================] - 2s 225us/step - loss: 0.3857 - acc: 0.8389\n",
      "Epoch 62/100\n",
      "8000/8000 [==============================] - 2s 250us/step - loss: 0.3903 - acc: 0.8362\n",
      "Epoch 63/100\n",
      "8000/8000 [==============================] - ETA: 0s - loss: 0.3881 - acc: 0.836 - 2s 242us/step - loss: 0.3878 - acc: 0.8367\n",
      "Epoch 64/100\n",
      "8000/8000 [==============================] - 2s 255us/step - loss: 0.3902 - acc: 0.8367\n",
      "Epoch 65/100\n",
      "8000/8000 [==============================] - 2s 255us/step - loss: 0.3889 - acc: 0.8390\n",
      "Epoch 66/100\n",
      "8000/8000 [==============================] - 2s 242us/step - loss: 0.3885 - acc: 0.8404\n",
      "Epoch 67/100\n",
      "8000/8000 [==============================] - 2s 272us/step - loss: 0.3871 - acc: 0.8399\n",
      "Epoch 68/100\n",
      "8000/8000 [==============================] - 2s 201us/step - loss: 0.3858 - acc: 0.8387\n",
      "Epoch 69/100\n",
      "8000/8000 [==============================] - 2s 198us/step - loss: 0.3908 - acc: 0.8361\n",
      "Epoch 70/100\n",
      "8000/8000 [==============================] - 2s 223us/step - loss: 0.3902 - acc: 0.8337\n",
      "Epoch 71/100\n",
      "8000/8000 [==============================] - 2s 246us/step - loss: 0.3919 - acc: 0.8382\n",
      "Epoch 72/100\n",
      "8000/8000 [==============================] - 2s 211us/step - loss: 0.3904 - acc: 0.8369\n",
      "Epoch 73/100\n",
      "8000/8000 [==============================] - 2s 239us/step - loss: 0.3877 - acc: 0.8364\n",
      "Epoch 74/100\n",
      "8000/8000 [==============================] - 3s 358us/step - loss: 0.3911 - acc: 0.8360 1s - los - ETA: 1s - loss: 0.3875 - acc: 0.8 - ETA: 1s - los\n",
      "Epoch 75/100\n",
      "8000/8000 [==============================] - 2s 241us/step - loss: 0.3900 - acc: 0.8376\n",
      "Epoch 76/100\n",
      "8000/8000 [==============================] - 2s 231us/step - loss: 0.3880 - acc: 0.8355\n",
      "Epoch 77/100\n",
      "8000/8000 [==============================] - 2s 234us/step - loss: 0.3867 - acc: 0.8405\n",
      "Epoch 78/100\n",
      "8000/8000 [==============================] - 2s 244us/step - loss: 0.3883 - acc: 0.8376\n",
      "Epoch 79/100\n",
      "8000/8000 [==============================] - 2s 236us/step - loss: 0.3879 - acc: 0.8399\n",
      "Epoch 80/100\n"
     ]
    },
    {
     "name": "stdout",
     "output_type": "stream",
     "text": [
      "8000/8000 [==============================] - 2s 243us/step - loss: 0.3891 - acc: 0.8395\n",
      "Epoch 81/100\n",
      "8000/8000 [==============================] - 2s 238us/step - loss: 0.3887 - acc: 0.8386\n",
      "Epoch 82/100\n",
      "8000/8000 [==============================] - 2s 249us/step - loss: 0.3921 - acc: 0.8366\n",
      "Epoch 83/100\n",
      "8000/8000 [==============================] - 2s 228us/step - loss: 0.3874 - acc: 0.8361\n",
      "Epoch 84/100\n",
      "8000/8000 [==============================] - 2s 228us/step - loss: 0.3883 - acc: 0.8379\n",
      "Epoch 85/100\n",
      "8000/8000 [==============================] - 2s 234us/step - loss: 0.3912 - acc: 0.8370\n",
      "Epoch 86/100\n",
      "8000/8000 [==============================] - 2s 300us/step - loss: 0.3925 - acc: 0.8389\n",
      "Epoch 87/100\n",
      "8000/8000 [==============================] - 2s 253us/step - loss: 0.3950 - acc: 0.8361\n",
      "Epoch 88/100\n",
      "8000/8000 [==============================] - 3s 386us/step - loss: 0.3874 - acc: 0.8385 2s - loss: 0.3768  - ETA: 2\n",
      "Epoch 89/100\n",
      "8000/8000 [==============================] - 2s 288us/step - loss: 0.3888 - acc: 0.8406\n",
      "Epoch 90/100\n",
      "8000/8000 [==============================] - 2s 243us/step - loss: 0.3888 - acc: 0.8367\n",
      "Epoch 91/100\n",
      "8000/8000 [==============================] - 2s 236us/step - loss: 0.3911 - acc: 0.8390\n",
      "Epoch 92/100\n",
      "8000/8000 [==============================] - 2s 235us/step - loss: 0.3923 - acc: 0.8372\n",
      "Epoch 93/100\n",
      "8000/8000 [==============================] - 2s 227us/step - loss: 0.3910 - acc: 0.8414\n",
      "Epoch 94/100\n",
      "8000/8000 [==============================] - 2s 221us/step - loss: 0.3936 - acc: 0.8347\n",
      "Epoch 95/100\n",
      "8000/8000 [==============================] - 2s 227us/step - loss: 0.3894 - acc: 0.8394\n",
      "Epoch 96/100\n",
      "8000/8000 [==============================] - 2s 237us/step - loss: 0.3927 - acc: 0.8397\n",
      "Epoch 97/100\n",
      "8000/8000 [==============================] - 2s 249us/step - loss: 0.3931 - acc: 0.8366\n",
      "Epoch 98/100\n",
      "8000/8000 [==============================] - 2s 271us/step - loss: 0.3914 - acc: 0.8367\n",
      "Epoch 99/100\n",
      "8000/8000 [==============================] - 3s 384us/step - loss: 0.3867 - acc: 0.8365\n",
      "Epoch 100/100\n",
      "8000/8000 [==============================] - 3s 405us/step - loss: 0.3830 - acc: 0.8397\n"
     ]
    },
    {
     "data": {
      "text/plain": [
       "<keras.callbacks.History at 0x1a20374c668>"
      ]
     },
     "execution_count": 31,
     "metadata": {},
     "output_type": "execute_result"
    }
   ],
   "source": [
    "\n",
    "classifier.fit(X_train, y_train, batch_size = 10, epochs = 100)\n"
   ]
  },
  {
   "cell_type": "markdown",
   "metadata": {},
   "source": [
    "# model preciting"
   ]
  },
  {
   "cell_type": "code",
   "execution_count": 35,
   "metadata": {},
   "outputs": [],
   "source": [
    "\n",
    "y_pred = classifier.predict(X_test)\n",
    "y_pred = (y_pred > 0.5)"
   ]
  },
  {
   "cell_type": "code",
   "execution_count": 36,
   "metadata": {},
   "outputs": [],
   "source": [
    "#confusion matrix\n",
    "from sklearn.metrics import confusion_matrix\n",
    "cm = confusion_matrix(y_test, y_pred)"
   ]
  },
  {
   "cell_type": "code",
   "execution_count": 37,
   "metadata": {},
   "outputs": [
    {
     "data": {
      "text/plain": [
       "array([[1547,   48],\n",
       "       [ 234,  171]], dtype=int64)"
      ]
     },
     "execution_count": 37,
     "metadata": {},
     "output_type": "execute_result"
    }
   ],
   "source": [
    "cm"
   ]
  },
  {
   "cell_type": "code",
   "execution_count": null,
   "metadata": {},
   "outputs": [],
   "source": []
  }
 ],
 "metadata": {
  "kernelspec": {
   "display_name": "Python 3",
   "language": "python",
   "name": "python3"
  },
  "language_info": {
   "codemirror_mode": {
    "name": "ipython",
    "version": 3
   },
   "file_extension": ".py",
   "mimetype": "text/x-python",
   "name": "python",
   "nbconvert_exporter": "python",
   "pygments_lexer": "ipython3",
   "version": "3.7.3"
  }
 },
 "nbformat": 4,
 "nbformat_minor": 4
}
